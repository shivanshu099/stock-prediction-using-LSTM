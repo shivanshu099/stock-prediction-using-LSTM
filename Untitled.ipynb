{
 "cells": [
  {
   "cell_type": "markdown",
   "metadata": {},
   "source": [
    " # Import libraries\n"
   ]
  },
  {
   "cell_type": "code",
   "execution_count": 12,
   "metadata": {},
   "outputs": [],
   "source": [
    "import numpy as np\n",
    "import pandas as pd\n",
    "from keras.models import Sequential\n",
    "from keras.layers import Dense, LSTM\n",
    "from sklearn.preprocessing import MinMaxScaler\n",
    "import matplotlib.pyplot as plt\n"
   ]
  },
  {
   "cell_type": "markdown",
   "metadata": {},
   "source": [
    " # Load data"
   ]
  },
  {
   "cell_type": "code",
   "execution_count": 14,
   "metadata": {},
   "outputs": [],
   "source": [
    "df = pd.read_csv('TSLA.csv')\n",
    "data = df.filter(['Close']).values\n"
   ]
  },
  {
   "cell_type": "markdown",
   "metadata": {},
   "source": [
    "# Preprocess data"
   ]
  },
  {
   "cell_type": "code",
   "execution_count": 15,
   "metadata": {},
   "outputs": [],
   "source": [
    "scaler = MinMaxScaler(feature_range=(0,1))\n",
    "scaled_data = scaler.fit_transform(data)"
   ]
  },
  {
   "cell_type": "markdown",
   "metadata": {},
   "source": [
    "# Prepare data"
   ]
  },
  {
   "cell_type": "code",
   "execution_count": 16,
   "metadata": {},
   "outputs": [],
   "source": [
    "prediction_days = 60\n",
    "x_train = []\n",
    "y_train = []\n",
    "\n",
    "for i in range(prediction_days, len(scaled_data)):\n",
    "  x_train.append(scaled_data[i-prediction_days:i, 0])\n",
    "  y_train.append(scaled_data[i, 0])\n",
    "\n",
    "x_train, y_train = np.array(x_train), np.array(y_train)\n",
    "x_train = np.reshape(x_train, (x_train.shape[0], x_train.shape[1], 1))\n"
   ]
  },
  {
   "cell_type": "markdown",
   "metadata": {},
   "source": [
    "# Train model"
   ]
  },
  {
   "cell_type": "code",
   "execution_count": 17,
   "metadata": {},
   "outputs": [
    {
     "name": "stdout",
     "output_type": "stream",
     "text": [
      "Epoch 1/25\n",
      "6/6 [==============================] - 11s 98ms/step - loss: 0.1186\n",
      "Epoch 2/25\n",
      "6/6 [==============================] - 1s 96ms/step - loss: 0.0324\n",
      "Epoch 3/25\n",
      "6/6 [==============================] - 1s 112ms/step - loss: 0.0197\n",
      "Epoch 4/25\n",
      "6/6 [==============================] - 1s 96ms/step - loss: 0.0166\n",
      "Epoch 5/25\n",
      "6/6 [==============================] - 1s 104ms/step - loss: 0.0136\n",
      "Epoch 6/25\n",
      "6/6 [==============================] - 1s 98ms/step - loss: 0.0121\n",
      "Epoch 7/25\n",
      "6/6 [==============================] - 1s 98ms/step - loss: 0.0106\n",
      "Epoch 8/25\n",
      "6/6 [==============================] - 1s 94ms/step - loss: 0.0094\n",
      "Epoch 9/25\n",
      "6/6 [==============================] - 1s 102ms/step - loss: 0.0082\n",
      "Epoch 10/25\n",
      "6/6 [==============================] - 1s 98ms/step - loss: 0.0083\n",
      "Epoch 11/25\n",
      "6/6 [==============================] - 1s 187ms/step - loss: 0.0076\n",
      "Epoch 12/25\n",
      "6/6 [==============================] - 1s 138ms/step - loss: 0.0073\n",
      "Epoch 13/25\n",
      "6/6 [==============================] - 1s 101ms/step - loss: 0.0069\n",
      "Epoch 14/25\n",
      "6/6 [==============================] - 1s 93ms/step - loss: 0.0065\n",
      "Epoch 15/25\n",
      "6/6 [==============================] - 1s 102ms/step - loss: 0.0060\n",
      "Epoch 16/25\n",
      "6/6 [==============================] - 1s 106ms/step - loss: 0.0060\n",
      "Epoch 17/25\n",
      "6/6 [==============================] - 1s 94ms/step - loss: 0.0058\n",
      "Epoch 18/25\n",
      "6/6 [==============================] - 1s 93ms/step - loss: 0.0055\n",
      "Epoch 19/25\n",
      "6/6 [==============================] - 1s 94ms/step - loss: 0.0051\n",
      "Epoch 20/25\n",
      "6/6 [==============================] - 1s 101ms/step - loss: 0.0050\n",
      "Epoch 21/25\n",
      "6/6 [==============================] - 1s 101ms/step - loss: 0.0049\n",
      "Epoch 22/25\n",
      "6/6 [==============================] - 1s 102ms/step - loss: 0.0046\n",
      "Epoch 23/25\n",
      "6/6 [==============================] - 1s 174ms/step - loss: 0.0045\n",
      "Epoch 24/25\n",
      "6/6 [==============================] - 1s 195ms/step - loss: 0.0043\n",
      "Epoch 25/25\n",
      "6/6 [==============================] - 1s 107ms/step - loss: 0.0042\n"
     ]
    },
    {
     "data": {
      "text/plain": [
       "<keras.callbacks.History at 0x1de857c10f0>"
      ]
     },
     "execution_count": 17,
     "metadata": {},
     "output_type": "execute_result"
    }
   ],
   "source": [
    "model = Sequential()\n",
    "model.add(LSTM(units=50, return_sequences=True, input_shape=(x_train.shape[1], 1)))\n",
    "model.add(LSTM(units=50, return_sequences=False))\n",
    "model.add(Dense(units=25))\n",
    "model.add(Dense(units=1))\n",
    "\n",
    "model.compile(optimizer='adam', loss='mean_squared_error')\n",
    "model.fit(x_train, y_train, epochs=25, batch_size=32)\n"
   ]
  },
  {
   "cell_type": "markdown",
   "metadata": {},
   "source": [
    "# Make prediction"
   ]
  },
  {
   "cell_type": "code",
   "execution_count": 18,
   "metadata": {},
   "outputs": [
    {
     "name": "stdout",
     "output_type": "stream",
     "text": [
      "1/1 [==============================] - 2s 2s/step\n",
      "1/1 [==============================] - 0s 64ms/step\n",
      "1/1 [==============================] - 0s 48ms/step\n",
      "1/1 [==============================] - 0s 64ms/step\n",
      "1/1 [==============================] - 0s 64ms/step\n",
      "1/1 [==============================] - 0s 48ms/step\n",
      "1/1 [==============================] - 0s 72ms/step\n",
      "1/1 [==============================] - 0s 48ms/step\n",
      "1/1 [==============================] - 0s 56ms/step\n",
      "1/1 [==============================] - 0s 56ms/step\n",
      "1/1 [==============================] - 0s 64ms/step\n",
      "1/1 [==============================] - 0s 56ms/step\n",
      "1/1 [==============================] - 0s 48ms/step\n",
      "1/1 [==============================] - 0s 64ms/step\n",
      "1/1 [==============================] - 0s 88ms/step\n",
      "1/1 [==============================] - 0s 80ms/step\n",
      "1/1 [==============================] - 0s 88ms/step\n",
      "1/1 [==============================] - 0s 104ms/step\n",
      "1/1 [==============================] - 0s 72ms/step\n",
      "1/1 [==============================] - 0s 56ms/step\n",
      "1/1 [==============================] - 0s 56ms/step\n",
      "1/1 [==============================] - 0s 72ms/step\n",
      "1/1 [==============================] - 0s 64ms/step\n",
      "1/1 [==============================] - 0s 64ms/step\n",
      "1/1 [==============================] - 0s 48ms/step\n",
      "1/1 [==============================] - 0s 56ms/step\n",
      "1/1 [==============================] - 0s 56ms/step\n",
      "1/1 [==============================] - 0s 64ms/step\n",
      "1/1 [==============================] - 0s 64ms/step\n",
      "1/1 [==============================] - 0s 80ms/step\n"
     ]
    }
   ],
   "source": [
    "test_data = scaled_data[-prediction_days:]\n",
    "test_data = np.reshape(test_data, (1, prediction_days, 1))\n",
    "predictions = []\n",
    "\n",
    "for i in range(30):\n",
    "  prediction = model.predict(test_data)\n",
    "  predictions.append(prediction)\n",
    "  test_data = np.append(test_data[:,1:,:], prediction.reshape(1,1,1), axis=1)\n",
    "\n",
    "predictions = np.array(predictions)\n",
    "predictions = scaler.inverse_transform(predictions.reshape(30, 1))\n"
   ]
  },
  {
   "cell_type": "markdown",
   "metadata": {},
   "source": [
    "# Plot results"
   ]
  },
  {
   "cell_type": "code",
   "execution_count": 19,
   "metadata": {},
   "outputs": [
    {
     "data": {
      "image/png": "[encoded data removed]",
      "text/plain": [
       "<Figure size 640x480 with 1 Axes>"
      ]
     },
     "metadata": {},
     "output_type": "display_data"
    }
   ],
   "source": [
    "plt.plot(df['Close'].values[-prediction_days:])\n",
    "plt.plot(predictions)\n",
    "plt.title('Stock Price Prediction')\n",
    "plt.xlabel('Days')\n",
    "plt.ylabel('Price')\n",
    "plt.legend(['Actual', 'Predicted'])\n",
    "plt.show()"
   ]
  },
  {
   "cell_type": "code",
   "execution_count": null,
   "metadata": {},
   "outputs": [],
   "source": []
  }
 ],
 "metadata": {
  "kernelspec": {
   "display_name": "Python 3 (ipykernel)",
   "language": "python",
   "name": "python3"
  },
  "language_info": {
   "codemirror_mode": {
    "name": "ipython",
    "version": 3
   },
   "file_extension": ".py",
   "mimetype": "text/x-python",
   "name": "python",
   "nbconvert_exporter": "python",
   "pygments_lexer": "ipython3",
   "version": "3.10.11"
  }
 },
 "nbformat": 4,
 "nbformat_minor": 4
}
